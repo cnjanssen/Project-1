{
 "cells": [
  {
   "cell_type": "code",
   "execution_count": 1,
   "metadata": {},
   "outputs": [],
   "source": [
    "import pandas as pd\n",
    "import numpy as np\n",
    "import matplotlib.pyplot as plt"
   ]
  },
  {
   "cell_type": "code",
   "execution_count": 8,
   "metadata": {},
   "outputs": [],
   "source": [
    "#file = \"Cleaned-gun-deaths.csv\"\n",
    "file = \"Recoded-Race.csv\""
   ]
  },
  {
   "cell_type": "code",
   "execution_count": 6,
   "metadata": {},
   "outputs": [
    {
     "ename": "FileNotFoundError",
     "evalue": "[Errno 2] File b'../Recoded-Race.csv' does not exist: b'../Recoded-Race.csv'",
     "output_type": "error",
     "traceback": [
      "\u001b[1;31m---------------------------------------------------------------------------\u001b[0m",
      "\u001b[1;31mFileNotFoundError\u001b[0m                         Traceback (most recent call last)",
      "\u001b[1;32m<ipython-input-6-5177e20f5098>\u001b[0m in \u001b[0;36m<module>\u001b[1;34m\u001b[0m\n\u001b[1;32m----> 1\u001b[1;33m \u001b[0mdf\u001b[0m \u001b[1;33m=\u001b[0m \u001b[0mpd\u001b[0m\u001b[1;33m.\u001b[0m\u001b[0mread_csv\u001b[0m\u001b[1;33m(\u001b[0m\u001b[0mfile\u001b[0m\u001b[1;33m)\u001b[0m\u001b[1;33m\u001b[0m\u001b[1;33m\u001b[0m\u001b[0m\n\u001b[0m\u001b[0;32m      2\u001b[0m \u001b[0mdf\u001b[0m\u001b[1;33m.\u001b[0m\u001b[0mhead\u001b[0m\u001b[1;33m(\u001b[0m\u001b[1;33m)\u001b[0m\u001b[1;33m\u001b[0m\u001b[1;33m\u001b[0m\u001b[0m\n",
      "\u001b[1;32mc:\\users\\aarth\\anaconda3\\envs\\pythondata\\lib\\site-packages\\pandas\\io\\parsers.py\u001b[0m in \u001b[0;36mparser_f\u001b[1;34m(filepath_or_buffer, sep, delimiter, header, names, index_col, usecols, squeeze, prefix, mangle_dupe_cols, dtype, engine, converters, true_values, false_values, skipinitialspace, skiprows, skipfooter, nrows, na_values, keep_default_na, na_filter, verbose, skip_blank_lines, parse_dates, infer_datetime_format, keep_date_col, date_parser, dayfirst, cache_dates, iterator, chunksize, compression, thousands, decimal, lineterminator, quotechar, quoting, doublequote, escapechar, comment, encoding, dialect, error_bad_lines, warn_bad_lines, delim_whitespace, low_memory, memory_map, float_precision)\u001b[0m\n\u001b[0;32m    683\u001b[0m         )\n\u001b[0;32m    684\u001b[0m \u001b[1;33m\u001b[0m\u001b[0m\n\u001b[1;32m--> 685\u001b[1;33m         \u001b[1;32mreturn\u001b[0m \u001b[0m_read\u001b[0m\u001b[1;33m(\u001b[0m\u001b[0mfilepath_or_buffer\u001b[0m\u001b[1;33m,\u001b[0m \u001b[0mkwds\u001b[0m\u001b[1;33m)\u001b[0m\u001b[1;33m\u001b[0m\u001b[1;33m\u001b[0m\u001b[0m\n\u001b[0m\u001b[0;32m    686\u001b[0m \u001b[1;33m\u001b[0m\u001b[0m\n\u001b[0;32m    687\u001b[0m     \u001b[0mparser_f\u001b[0m\u001b[1;33m.\u001b[0m\u001b[0m__name__\u001b[0m \u001b[1;33m=\u001b[0m \u001b[0mname\u001b[0m\u001b[1;33m\u001b[0m\u001b[1;33m\u001b[0m\u001b[0m\n",
      "\u001b[1;32mc:\\users\\aarth\\anaconda3\\envs\\pythondata\\lib\\site-packages\\pandas\\io\\parsers.py\u001b[0m in \u001b[0;36m_read\u001b[1;34m(filepath_or_buffer, kwds)\u001b[0m\n\u001b[0;32m    455\u001b[0m \u001b[1;33m\u001b[0m\u001b[0m\n\u001b[0;32m    456\u001b[0m     \u001b[1;31m# Create the parser.\u001b[0m\u001b[1;33m\u001b[0m\u001b[1;33m\u001b[0m\u001b[1;33m\u001b[0m\u001b[0m\n\u001b[1;32m--> 457\u001b[1;33m     \u001b[0mparser\u001b[0m \u001b[1;33m=\u001b[0m \u001b[0mTextFileReader\u001b[0m\u001b[1;33m(\u001b[0m\u001b[0mfp_or_buf\u001b[0m\u001b[1;33m,\u001b[0m \u001b[1;33m**\u001b[0m\u001b[0mkwds\u001b[0m\u001b[1;33m)\u001b[0m\u001b[1;33m\u001b[0m\u001b[1;33m\u001b[0m\u001b[0m\n\u001b[0m\u001b[0;32m    458\u001b[0m \u001b[1;33m\u001b[0m\u001b[0m\n\u001b[0;32m    459\u001b[0m     \u001b[1;32mif\u001b[0m \u001b[0mchunksize\u001b[0m \u001b[1;32mor\u001b[0m \u001b[0miterator\u001b[0m\u001b[1;33m:\u001b[0m\u001b[1;33m\u001b[0m\u001b[1;33m\u001b[0m\u001b[0m\n",
      "\u001b[1;32mc:\\users\\aarth\\anaconda3\\envs\\pythondata\\lib\\site-packages\\pandas\\io\\parsers.py\u001b[0m in \u001b[0;36m__init__\u001b[1;34m(self, f, engine, **kwds)\u001b[0m\n\u001b[0;32m    893\u001b[0m             \u001b[0mself\u001b[0m\u001b[1;33m.\u001b[0m\u001b[0moptions\u001b[0m\u001b[1;33m[\u001b[0m\u001b[1;34m\"has_index_names\"\u001b[0m\u001b[1;33m]\u001b[0m \u001b[1;33m=\u001b[0m \u001b[0mkwds\u001b[0m\u001b[1;33m[\u001b[0m\u001b[1;34m\"has_index_names\"\u001b[0m\u001b[1;33m]\u001b[0m\u001b[1;33m\u001b[0m\u001b[1;33m\u001b[0m\u001b[0m\n\u001b[0;32m    894\u001b[0m \u001b[1;33m\u001b[0m\u001b[0m\n\u001b[1;32m--> 895\u001b[1;33m         \u001b[0mself\u001b[0m\u001b[1;33m.\u001b[0m\u001b[0m_make_engine\u001b[0m\u001b[1;33m(\u001b[0m\u001b[0mself\u001b[0m\u001b[1;33m.\u001b[0m\u001b[0mengine\u001b[0m\u001b[1;33m)\u001b[0m\u001b[1;33m\u001b[0m\u001b[1;33m\u001b[0m\u001b[0m\n\u001b[0m\u001b[0;32m    896\u001b[0m \u001b[1;33m\u001b[0m\u001b[0m\n\u001b[0;32m    897\u001b[0m     \u001b[1;32mdef\u001b[0m \u001b[0mclose\u001b[0m\u001b[1;33m(\u001b[0m\u001b[0mself\u001b[0m\u001b[1;33m)\u001b[0m\u001b[1;33m:\u001b[0m\u001b[1;33m\u001b[0m\u001b[1;33m\u001b[0m\u001b[0m\n",
      "\u001b[1;32mc:\\users\\aarth\\anaconda3\\envs\\pythondata\\lib\\site-packages\\pandas\\io\\parsers.py\u001b[0m in \u001b[0;36m_make_engine\u001b[1;34m(self, engine)\u001b[0m\n\u001b[0;32m   1133\u001b[0m     \u001b[1;32mdef\u001b[0m \u001b[0m_make_engine\u001b[0m\u001b[1;33m(\u001b[0m\u001b[0mself\u001b[0m\u001b[1;33m,\u001b[0m \u001b[0mengine\u001b[0m\u001b[1;33m=\u001b[0m\u001b[1;34m\"c\"\u001b[0m\u001b[1;33m)\u001b[0m\u001b[1;33m:\u001b[0m\u001b[1;33m\u001b[0m\u001b[1;33m\u001b[0m\u001b[0m\n\u001b[0;32m   1134\u001b[0m         \u001b[1;32mif\u001b[0m \u001b[0mengine\u001b[0m \u001b[1;33m==\u001b[0m \u001b[1;34m\"c\"\u001b[0m\u001b[1;33m:\u001b[0m\u001b[1;33m\u001b[0m\u001b[1;33m\u001b[0m\u001b[0m\n\u001b[1;32m-> 1135\u001b[1;33m             \u001b[0mself\u001b[0m\u001b[1;33m.\u001b[0m\u001b[0m_engine\u001b[0m \u001b[1;33m=\u001b[0m \u001b[0mCParserWrapper\u001b[0m\u001b[1;33m(\u001b[0m\u001b[0mself\u001b[0m\u001b[1;33m.\u001b[0m\u001b[0mf\u001b[0m\u001b[1;33m,\u001b[0m \u001b[1;33m**\u001b[0m\u001b[0mself\u001b[0m\u001b[1;33m.\u001b[0m\u001b[0moptions\u001b[0m\u001b[1;33m)\u001b[0m\u001b[1;33m\u001b[0m\u001b[1;33m\u001b[0m\u001b[0m\n\u001b[0m\u001b[0;32m   1136\u001b[0m         \u001b[1;32melse\u001b[0m\u001b[1;33m:\u001b[0m\u001b[1;33m\u001b[0m\u001b[1;33m\u001b[0m\u001b[0m\n\u001b[0;32m   1137\u001b[0m             \u001b[1;32mif\u001b[0m \u001b[0mengine\u001b[0m \u001b[1;33m==\u001b[0m \u001b[1;34m\"python\"\u001b[0m\u001b[1;33m:\u001b[0m\u001b[1;33m\u001b[0m\u001b[1;33m\u001b[0m\u001b[0m\n",
      "\u001b[1;32mc:\\users\\aarth\\anaconda3\\envs\\pythondata\\lib\\site-packages\\pandas\\io\\parsers.py\u001b[0m in \u001b[0;36m__init__\u001b[1;34m(self, src, **kwds)\u001b[0m\n\u001b[0;32m   1915\u001b[0m         \u001b[0mkwds\u001b[0m\u001b[1;33m[\u001b[0m\u001b[1;34m\"usecols\"\u001b[0m\u001b[1;33m]\u001b[0m \u001b[1;33m=\u001b[0m \u001b[0mself\u001b[0m\u001b[1;33m.\u001b[0m\u001b[0musecols\u001b[0m\u001b[1;33m\u001b[0m\u001b[1;33m\u001b[0m\u001b[0m\n\u001b[0;32m   1916\u001b[0m \u001b[1;33m\u001b[0m\u001b[0m\n\u001b[1;32m-> 1917\u001b[1;33m         \u001b[0mself\u001b[0m\u001b[1;33m.\u001b[0m\u001b[0m_reader\u001b[0m \u001b[1;33m=\u001b[0m \u001b[0mparsers\u001b[0m\u001b[1;33m.\u001b[0m\u001b[0mTextReader\u001b[0m\u001b[1;33m(\u001b[0m\u001b[0msrc\u001b[0m\u001b[1;33m,\u001b[0m \u001b[1;33m**\u001b[0m\u001b[0mkwds\u001b[0m\u001b[1;33m)\u001b[0m\u001b[1;33m\u001b[0m\u001b[1;33m\u001b[0m\u001b[0m\n\u001b[0m\u001b[0;32m   1918\u001b[0m         \u001b[0mself\u001b[0m\u001b[1;33m.\u001b[0m\u001b[0munnamed_cols\u001b[0m \u001b[1;33m=\u001b[0m \u001b[0mself\u001b[0m\u001b[1;33m.\u001b[0m\u001b[0m_reader\u001b[0m\u001b[1;33m.\u001b[0m\u001b[0munnamed_cols\u001b[0m\u001b[1;33m\u001b[0m\u001b[1;33m\u001b[0m\u001b[0m\n\u001b[0;32m   1919\u001b[0m \u001b[1;33m\u001b[0m\u001b[0m\n",
      "\u001b[1;32mpandas\\_libs\\parsers.pyx\u001b[0m in \u001b[0;36mpandas._libs.parsers.TextReader.__cinit__\u001b[1;34m()\u001b[0m\n",
      "\u001b[1;32mpandas\\_libs\\parsers.pyx\u001b[0m in \u001b[0;36mpandas._libs.parsers.TextReader._setup_parser_source\u001b[1;34m()\u001b[0m\n",
      "\u001b[1;31mFileNotFoundError\u001b[0m: [Errno 2] File b'../Recoded-Race.csv' does not exist: b'../Recoded-Race.csv'"
     ]
    }
   ],
   "source": [
    "df = pd.read_csv(file)\n",
    "df.head()"
   ]
  },
  {
   "cell_type": "code",
   "execution_count": 28,
   "metadata": {},
   "outputs": [],
   "source": [
    "unqrace = df['Race'].unique()"
   ]
  },
  {
   "cell_type": "code",
   "execution_count": null,
   "metadata": {},
   "outputs": [],
   "source": []
  },
  {
   "cell_type": "code",
   "execution_count": 31,
   "metadata": {},
   "outputs": [
    {
     "data": {
      "text/plain": [
       "['White',\n",
       " 'Black',\n",
       " 'American Indian',\n",
       " 'Asian or Pacific Islander',\n",
       " 'Filipino',\n",
       " 'Samoan',\n",
       " 'Asian Indian',\n",
       " 'Japanese',\n",
       " 'Korean',\n",
       " 'Vietnamese',\n",
       " 'Chinese',\n",
       " 'Guamanian',\n",
       " 'Hawaiian']"
      ]
     },
     "execution_count": 31,
     "metadata": {},
     "output_type": "execute_result"
    }
   ],
   "source": [
    "x_axis = np.arange(int(unqrace.size))\n",
    "x_axis\n",
    "race = []\n",
    "for i in unqrace:\n",
    "    race.append(i)"
   ]
  },
  {
   "cell_type": "code",
   "execution_count": 70,
   "metadata": {},
   "outputs": [
    {
     "data": {
      "text/plain": [
       "Black                        24957\n",
       "White                        17509\n",
       "American Indian                531\n",
       "Asian or Pacific Islander      277\n",
       "Asian Indian                   100\n",
       "Vietnamese                      96\n",
       "Chinese                         75\n",
       "Filipino                        55\n",
       "Korean                          38\n",
       "Samoan                          25\n",
       "Japanese                        15\n",
       "Hawaiian                        10\n",
       "Guamanian                       10\n",
       "Name: Race, dtype: int64"
      ]
     },
     "execution_count": 70,
     "metadata": {},
     "output_type": "execute_result"
    }
   ],
   "source": [
    "#grp_race = df.groupby(['Race'])\n",
    "grp_race_homicide = df[df['Manner_Of_Death']=='Homicide']\n",
    "#urban_grp = city_ride[city_ride['type']=='Urban'].groupby(['city'])\n",
    "grp_race_homicide['Race'].value_counts()"
   ]
  },
  {
   "cell_type": "code",
   "execution_count": 71,
   "metadata": {},
   "outputs": [],
   "source": [
    "Race_count = grp_race_homicide['Race'].value_counts()\n",
    "deaths_by_race = []\n",
    "#race_index = []\n",
    "for i in Race_count:\n",
    "    deaths_by_race.append(i)\n",
    "    #race_index = index('i')\n",
    "#deaths_by_race\n",
    "#race_index = Race_count.index\n",
    "#race_index"
   ]
  },
  {
   "cell_type": "code",
   "execution_count": 72,
   "metadata": {},
   "outputs": [
    {
     "data": {
      "text/plain": [
       "Black                        24957\n",
       "White                        17509\n",
       "American Indian                531\n",
       "Asian or Pacific Islander      277\n",
       "Asian Indian                   100\n",
       "Vietnamese                      96\n",
       "Chinese                         75\n",
       "Filipino                        55\n",
       "Korean                          38\n",
       "Samoan                          25\n",
       "Japanese                        15\n",
       "Hawaiian                        10\n",
       "Guamanian                       10\n",
       "Name: Race, dtype: int64"
      ]
     },
     "execution_count": 72,
     "metadata": {},
     "output_type": "execute_result"
    }
   ],
   "source": [
    "Race_count"
   ]
  },
  {
   "cell_type": "code",
   "execution_count": 80,
   "metadata": {},
   "outputs": [
    {
     "data": {
      "text/plain": [
       "[0, 1, 2, 3, 4, 5, 6, 7, 8, 9, 10, 11, 12]"
      ]
     },
     "execution_count": 80,
     "metadata": {},
     "output_type": "execute_result"
    },
    {
     "data": {
      "image/png": "[encoded data removed]",
      "text/plain": [
       "<Figure size 432x288 with 1 Axes>"
      ]
     },
     "metadata": {
      "needs_background": "light"
     },
     "output_type": "display_data"
    }
   ],
   "source": [
    "tick_loc = [value for value in x_axis]\n",
    "plt.xticks(tick_loc,Race_count.index,rotation='vertical')\n",
    "plt.bar(x_axis,deaths_by_race,color='b',alpha=0.5,align='center')\n",
    "tick_loc"
   ]
  },
  {
   "cell_type": "code",
   "execution_count": 59,
   "metadata": {},
   "outputs": [
    {
     "data": {
      "text/plain": [
       "(-0.75, 12.75)"
      ]
     },
     "execution_count": 59,
     "metadata": {},
     "output_type": "execute_result"
    },
    {
     "data": {
      "image/png": "[encoded data removed]",
      "text/plain": [
       "<Figure size 432x288 with 1 Axes>"
      ]
     },
     "metadata": {
      "needs_background": "light"
     },
     "output_type": "display_data"
    }
   ],
   "source": []
  },
  {
   "cell_type": "code",
   "execution_count": 83,
   "metadata": {},
   "outputs": [],
   "source": [
    "grp_race_homicide_2015 = grp_race_homicide[grp_race_homicide['Data_Year']==2015]\n",
    "grp_race_homicide_2016 = grp_race_homicide[grp_race_homicide['Data_Year']==2016]\n",
    "grp_race_homicide_2017 = grp_race_homicide[grp_race_homicide['Data_Year']==2017]"
   ]
  },
  {
   "cell_type": "code",
   "execution_count": 79,
   "metadata": {},
   "outputs": [
    {
     "data": {
      "text/html": [
       "<div>\n",
       "<style scoped>\n",
       "    .dataframe tbody tr th:only-of-type {\n",
       "        vertical-align: middle;\n",
       "    }\n",
       "\n",
       "    .dataframe tbody tr th {\n",
       "        vertical-align: top;\n",
       "    }\n",
       "\n",
       "    .dataframe thead th {\n",
       "        text-align: right;\n",
       "    }\n",
       "</style>\n",
       "<table border=\"1\" class=\"dataframe\">\n",
       "  <thead>\n",
       "    <tr style=\"text-align: right;\">\n",
       "      <th></th>\n",
       "      <th>Unnamed: 0</th>\n",
       "      <th>Resident_Status</th>\n",
       "      <th>Month_Of_Death</th>\n",
       "      <th>Sex</th>\n",
       "      <th>Age</th>\n",
       "      <th>Age_Group</th>\n",
       "      <th>Place_Of_Death</th>\n",
       "      <th>Marital_Status</th>\n",
       "      <th>DOW_of_Death</th>\n",
       "      <th>Data_Year</th>\n",
       "      <th>Injured_At_Work</th>\n",
       "      <th>Manner_Of_Death</th>\n",
       "      <th>Activity_Code</th>\n",
       "      <th>Place_Of_Causal_Injury</th>\n",
       "      <th>Race</th>\n",
       "      <th>Hispanic_Origin</th>\n",
       "      <th>Causes_of_Death</th>\n",
       "      <th>ICD10</th>\n",
       "    </tr>\n",
       "  </thead>\n",
       "  <tbody>\n",
       "    <tr>\n",
       "      <td>3</td>\n",
       "      <td>3</td>\n",
       "      <td>Inter_state_NR</td>\n",
       "      <td>January</td>\n",
       "      <td>F</td>\n",
       "      <td>23</td>\n",
       "      <td>15 - 24</td>\n",
       "      <td>Outpatient Hospital</td>\n",
       "      <td>S</td>\n",
       "      <td>Tuesday</td>\n",
       "      <td>2015</td>\n",
       "      <td>N</td>\n",
       "      <td>Homicide</td>\n",
       "      <td>Other Activity</td>\n",
       "      <td>Home</td>\n",
       "      <td>Black</td>\n",
       "      <td>Non - Hispanic black</td>\n",
       "      <td>Assault (homicide) by discharge of firearms</td>\n",
       "      <td>Assault (homicide)</td>\n",
       "    </tr>\n",
       "    <tr>\n",
       "      <td>5</td>\n",
       "      <td>5</td>\n",
       "      <td>Residents</td>\n",
       "      <td>January</td>\n",
       "      <td>M</td>\n",
       "      <td>18</td>\n",
       "      <td>15 - 24</td>\n",
       "      <td>Outpatient Hospital</td>\n",
       "      <td>S</td>\n",
       "      <td>Sunday</td>\n",
       "      <td>2015</td>\n",
       "      <td>N</td>\n",
       "      <td>Homicide</td>\n",
       "      <td>Other Activity</td>\n",
       "      <td>Other Places</td>\n",
       "      <td>White</td>\n",
       "      <td>Non - Hispanic white</td>\n",
       "      <td>Assault (homicide) by discharge of firearms</td>\n",
       "      <td>Assault (homicide)</td>\n",
       "    </tr>\n",
       "    <tr>\n",
       "      <td>7</td>\n",
       "      <td>7</td>\n",
       "      <td>Residents</td>\n",
       "      <td>January</td>\n",
       "      <td>M</td>\n",
       "      <td>20</td>\n",
       "      <td>15 - 24</td>\n",
       "      <td>Other</td>\n",
       "      <td>S</td>\n",
       "      <td>Thursday</td>\n",
       "      <td>2015</td>\n",
       "      <td>N</td>\n",
       "      <td>Homicide</td>\n",
       "      <td>Other Activity</td>\n",
       "      <td>Other Places</td>\n",
       "      <td>White</td>\n",
       "      <td>Puerto Rican</td>\n",
       "      <td>Assault (homicide) by discharge of firearms</td>\n",
       "      <td>Assault (homicide)</td>\n",
       "    </tr>\n",
       "    <tr>\n",
       "      <td>11</td>\n",
       "      <td>11</td>\n",
       "      <td>Inter_state_NR</td>\n",
       "      <td>February</td>\n",
       "      <td>M</td>\n",
       "      <td>33</td>\n",
       "      <td>25 - 34</td>\n",
       "      <td>Other</td>\n",
       "      <td>M</td>\n",
       "      <td>Sunday</td>\n",
       "      <td>2015</td>\n",
       "      <td>N</td>\n",
       "      <td>Homicide</td>\n",
       "      <td>Other Activity</td>\n",
       "      <td>Other Places</td>\n",
       "      <td>White</td>\n",
       "      <td>Mexican</td>\n",
       "      <td>Assault (homicide) by discharge of firearms</td>\n",
       "      <td>Assault (homicide)</td>\n",
       "    </tr>\n",
       "    <tr>\n",
       "      <td>18</td>\n",
       "      <td>18</td>\n",
       "      <td>Inter_state_NR</td>\n",
       "      <td>February</td>\n",
       "      <td>M</td>\n",
       "      <td>34</td>\n",
       "      <td>25 - 34</td>\n",
       "      <td>Other</td>\n",
       "      <td>M</td>\n",
       "      <td>Thursday</td>\n",
       "      <td>2015</td>\n",
       "      <td>N</td>\n",
       "      <td>Homicide</td>\n",
       "      <td>Other Activity</td>\n",
       "      <td>Home</td>\n",
       "      <td>White</td>\n",
       "      <td>Non - Hispanic white</td>\n",
       "      <td>Assault (homicide) by discharge of firearms</td>\n",
       "      <td>Assault (homicide)</td>\n",
       "    </tr>\n",
       "  </tbody>\n",
       "</table>\n",
       "</div>"
      ],
      "text/plain": [
       "    Unnamed: 0 Resident_Status Month_Of_Death Sex  Age Age_Group  \\\n",
       "3            3  Inter_state_NR        January   F   23   15 - 24   \n",
       "5            5       Residents        January   M   18   15 - 24   \n",
       "7            7       Residents        January   M   20   15 - 24   \n",
       "11          11  Inter_state_NR       February   M   33   25 - 34   \n",
       "18          18  Inter_state_NR       February   M   34   25 - 34   \n",
       "\n",
       "         Place_Of_Death Marital_Status DOW_of_Death  Data_Year  \\\n",
       "3   Outpatient Hospital              S      Tuesday       2015   \n",
       "5   Outpatient Hospital              S       Sunday       2015   \n",
       "7                 Other              S     Thursday       2015   \n",
       "11                Other              M       Sunday       2015   \n",
       "18                Other              M     Thursday       2015   \n",
       "\n",
       "   Injured_At_Work Manner_Of_Death   Activity_Code Place_Of_Causal_Injury  \\\n",
       "3                N        Homicide  Other Activity                   Home   \n",
       "5                N        Homicide  Other Activity           Other Places   \n",
       "7                N        Homicide  Other Activity           Other Places   \n",
       "11               N        Homicide  Other Activity           Other Places   \n",
       "18               N        Homicide  Other Activity                   Home   \n",
       "\n",
       "     Race       Hispanic_Origin                              Causes_of_Death  \\\n",
       "3   Black  Non - Hispanic black  Assault (homicide) by discharge of firearms   \n",
       "5   White  Non - Hispanic white  Assault (homicide) by discharge of firearms   \n",
       "7   White          Puerto Rican  Assault (homicide) by discharge of firearms   \n",
       "11  White               Mexican  Assault (homicide) by discharge of firearms   \n",
       "18  White  Non - Hispanic white  Assault (homicide) by discharge of firearms   \n",
       "\n",
       "                 ICD10  \n",
       "3   Assault (homicide)  \n",
       "5   Assault (homicide)  \n",
       "7   Assault (homicide)  \n",
       "11  Assault (homicide)  \n",
       "18  Assault (homicide)  "
      ]
     },
     "execution_count": 79,
     "metadata": {},
     "output_type": "execute_result"
    }
   ],
   "source": [
    "grp_race_homicide_2015.head()"
   ]
  },
  {
   "cell_type": "code",
   "execution_count": 93,
   "metadata": {},
   "outputs": [],
   "source": [
    "Race_count_2015 = grp_race_homicide_2015['Race'].value_counts()\n",
    "deaths_by_race_2015 = []\n",
    "#race_index = []\n",
    "for i in Race_count_2015:\n",
    "    deaths_by_race_2015.append(i)\n",
    "Race_count_2016 = grp_race_homicide_2016['Race'].value_counts()\n",
    "deaths_by_race_2016 = []\n",
    "#race_index = []\n",
    "for i in Race_count_2016:\n",
    "    deaths_by_race_2016.append(i)\n",
    "Race_count_2017 = grp_race_homicide_2017['Race'].value_counts()\n",
    "deaths_by_race_2017 = []\n",
    "#race_index = []\n",
    "for i in Race_count_2017:\n",
    "    deaths_by_race_2017.append(i)"
   ]
  },
  {
   "cell_type": "code",
   "execution_count": 131,
   "metadata": {},
   "outputs": [
    {
     "data": {
      "image/png": "[encoded data removed]",
      "text/plain": [
       "<Figure size 1440x720 with 1 Axes>"
      ]
     },
     "metadata": {
      "needs_background": "light"
     },
     "output_type": "display_data"
    }
   ],
   "source": [
    "#np.arange(int(unqrace.size))\n",
    "\n",
    "x = np.arange(int(unqrace.size))  # the label locations\n",
    "width = .27\n",
    "\n",
    "fig, ax = plt.subplots(figsize=(20,10))\n",
    "rects1 = ax.bar(x - width/3, deaths_by_race_2015, width, label='2015',color='r')\n",
    "rects2 = ax.bar(x + width/3, deaths_by_race_2016, width, label='2016', color='b')\n",
    "rects3 = ax.bar(x + width, deaths_by_race_2017,width, label='2017', color='g')\n",
    "ax.legend()\n",
    "plt.xticks(tick_loc,Race_count.index,fontsize=15,rotation='vertical')\n",
    "plt.yticks(fontsize=15)\n",
    "fig.tight_layout()\n",
    "plt.ylabel('Homicide deaths by gun',fontsize=20)\n",
    "plt.title('Does Race play a factor in homicide by gun?',fontsize=20)\n",
    "#plt.figure(figsize=(80,10))\n",
    "plt.legend(loc=1, prop={'size': 20})\n",
    "plt.show()"
   ]
  },
  {
   "cell_type": "code",
   "execution_count": null,
   "metadata": {},
   "outputs": [],
   "source": []
  },
  {
   "cell_type": "code",
   "execution_count": null,
   "metadata": {},
   "outputs": [],
   "source": []
  }
 ],
 "metadata": {
  "kernelspec": {
   "display_name": "Python 3",
   "language": "python",
   "name": "python3"
  },
  "language_info": {
   "codemirror_mode": {
    "name": "ipython",
    "version": 3
   },
   "file_extension": ".py",
   "mimetype": "text/x-python",
   "name": "python",
   "nbconvert_exporter": "python",
   "pygments_lexer": "ipython3",
   "version": "3.6.9"
  }
 },
 "nbformat": 4,
 "nbformat_minor": 2
}
