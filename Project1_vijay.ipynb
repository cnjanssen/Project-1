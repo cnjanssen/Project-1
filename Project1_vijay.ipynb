{
 "cells": [
  {
   "cell_type": "code",
   "execution_count": 3,
   "metadata": {},
   "outputs": [],
   "source": [
    "import pandas as pd\n",
    "import numpy as np\n",
    "import matplotlib.pyplot as plt"
   ]
  },
  {
   "cell_type": "code",
   "execution_count": 4,
   "metadata": {},
   "outputs": [],
   "source": [
    "#file = \"Cleaned-gun-deaths.csv\"\n",
    "file = \"Recoded-Race.csv\""
   ]
  },
  {
   "cell_type": "code",
   "execution_count": 5,
   "metadata": {},
   "outputs": [
    {
     "data": {
      "text/html": [
       "<div>\n",
       "<style scoped>\n",
       "    .dataframe tbody tr th:only-of-type {\n",
       "        vertical-align: middle;\n",
       "    }\n",
       "\n",
       "    .dataframe tbody tr th {\n",
       "        vertical-align: top;\n",
       "    }\n",
       "\n",
       "    .dataframe thead th {\n",
       "        text-align: right;\n",
       "    }\n",
       "</style>\n",
       "<table border=\"1\" class=\"dataframe\">\n",
       "  <thead>\n",
       "    <tr style=\"text-align: right;\">\n",
       "      <th></th>\n",
       "      <th>Unnamed: 0</th>\n",
       "      <th>Unnamed: 0.1</th>\n",
       "      <th>Resident_Status</th>\n",
       "      <th>Month_Of_Death</th>\n",
       "      <th>Sex</th>\n",
       "      <th>Age</th>\n",
       "      <th>Age_Group</th>\n",
       "      <th>Place_Of_Death</th>\n",
       "      <th>Marital_Status</th>\n",
       "      <th>DOW_of_Death</th>\n",
       "      <th>...</th>\n",
       "      <th>Injured_At_Work</th>\n",
       "      <th>Manner_Of_Death</th>\n",
       "      <th>Activity_Code</th>\n",
       "      <th>Place_Of_Causal_Injury</th>\n",
       "      <th>Race</th>\n",
       "      <th>Hispanic_Origin</th>\n",
       "      <th>Causes_of_Death</th>\n",
       "      <th>ICD10</th>\n",
       "      <th>Race-Simplified</th>\n",
       "      <th>ICD10-Description</th>\n",
       "    </tr>\n",
       "  </thead>\n",
       "  <tbody>\n",
       "    <tr>\n",
       "      <td>0</td>\n",
       "      <td>0</td>\n",
       "      <td>0</td>\n",
       "      <td>Residents</td>\n",
       "      <td>January</td>\n",
       "      <td>M</td>\n",
       "      <td>48</td>\n",
       "      <td>45 - 54</td>\n",
       "      <td>Decendents Home</td>\n",
       "      <td>M</td>\n",
       "      <td>Saturday</td>\n",
       "      <td>...</td>\n",
       "      <td>N</td>\n",
       "      <td>Suicide</td>\n",
       "      <td>Other Activity</td>\n",
       "      <td>Home</td>\n",
       "      <td>White</td>\n",
       "      <td>Non - Hispanic white</td>\n",
       "      <td>suicide by firearms</td>\n",
       "      <td>X72</td>\n",
       "      <td>White</td>\n",
       "      <td>X72</td>\n",
       "    </tr>\n",
       "    <tr>\n",
       "      <td>1</td>\n",
       "      <td>1</td>\n",
       "      <td>1</td>\n",
       "      <td>Residents</td>\n",
       "      <td>January</td>\n",
       "      <td>F</td>\n",
       "      <td>19</td>\n",
       "      <td>15 - 24</td>\n",
       "      <td>Other</td>\n",
       "      <td>S</td>\n",
       "      <td>Tuesday</td>\n",
       "      <td>...</td>\n",
       "      <td>N</td>\n",
       "      <td>Suicide</td>\n",
       "      <td>Other Activity</td>\n",
       "      <td>Other Places</td>\n",
       "      <td>White</td>\n",
       "      <td>Non - Hispanic white</td>\n",
       "      <td>suicide by firearms</td>\n",
       "      <td>X72</td>\n",
       "      <td>White</td>\n",
       "      <td>X72</td>\n",
       "    </tr>\n",
       "    <tr>\n",
       "      <td>2</td>\n",
       "      <td>2</td>\n",
       "      <td>2</td>\n",
       "      <td>Residents</td>\n",
       "      <td>January</td>\n",
       "      <td>M</td>\n",
       "      <td>33</td>\n",
       "      <td>25 - 34</td>\n",
       "      <td>Decendents Home</td>\n",
       "      <td>M</td>\n",
       "      <td>Sunday</td>\n",
       "      <td>...</td>\n",
       "      <td>N</td>\n",
       "      <td>Suicide</td>\n",
       "      <td>Other Activity</td>\n",
       "      <td>Home</td>\n",
       "      <td>White</td>\n",
       "      <td>Non - Hispanic white</td>\n",
       "      <td>suicide by firearms</td>\n",
       "      <td>X74</td>\n",
       "      <td>White</td>\n",
       "      <td>X74</td>\n",
       "    </tr>\n",
       "    <tr>\n",
       "      <td>3</td>\n",
       "      <td>3</td>\n",
       "      <td>3</td>\n",
       "      <td>Inter_state_NR</td>\n",
       "      <td>January</td>\n",
       "      <td>F</td>\n",
       "      <td>23</td>\n",
       "      <td>15 - 24</td>\n",
       "      <td>Outpatient Hospital</td>\n",
       "      <td>S</td>\n",
       "      <td>Tuesday</td>\n",
       "      <td>...</td>\n",
       "      <td>N</td>\n",
       "      <td>Homicide</td>\n",
       "      <td>Other Activity</td>\n",
       "      <td>Home</td>\n",
       "      <td>Black</td>\n",
       "      <td>Non - Hispanic black</td>\n",
       "      <td>Assault (homicide) by discharge of firearms</td>\n",
       "      <td>X95</td>\n",
       "      <td>Black</td>\n",
       "      <td>X95</td>\n",
       "    </tr>\n",
       "    <tr>\n",
       "      <td>4</td>\n",
       "      <td>4</td>\n",
       "      <td>4</td>\n",
       "      <td>Residents</td>\n",
       "      <td>January</td>\n",
       "      <td>F</td>\n",
       "      <td>40</td>\n",
       "      <td>35 - 44</td>\n",
       "      <td>Other</td>\n",
       "      <td>D</td>\n",
       "      <td>Tuesday</td>\n",
       "      <td>...</td>\n",
       "      <td>N</td>\n",
       "      <td>Suicide</td>\n",
       "      <td>Other Activity</td>\n",
       "      <td>Other Places</td>\n",
       "      <td>White</td>\n",
       "      <td>Non - Hispanic white</td>\n",
       "      <td>suicide by firearms</td>\n",
       "      <td>X72</td>\n",
       "      <td>White</td>\n",
       "      <td>X72</td>\n",
       "    </tr>\n",
       "  </tbody>\n",
       "</table>\n",
       "<p>5 rows × 21 columns</p>\n",
       "</div>"
      ],
      "text/plain": [
       "   Unnamed: 0  Unnamed: 0.1 Resident_Status Month_Of_Death Sex  Age Age_Group  \\\n",
       "0           0             0       Residents        January   M   48   45 - 54   \n",
       "1           1             1       Residents        January   F   19   15 - 24   \n",
       "2           2             2       Residents        January   M   33   25 - 34   \n",
       "3           3             3  Inter_state_NR        January   F   23   15 - 24   \n",
       "4           4             4       Residents        January   F   40   35 - 44   \n",
       "\n",
       "        Place_Of_Death Marital_Status DOW_of_Death  ...  Injured_At_Work  \\\n",
       "0      Decendents Home              M     Saturday  ...                N   \n",
       "1                Other              S      Tuesday  ...                N   \n",
       "2      Decendents Home              M       Sunday  ...                N   \n",
       "3  Outpatient Hospital              S      Tuesday  ...                N   \n",
       "4                Other              D      Tuesday  ...                N   \n",
       "\n",
       "  Manner_Of_Death   Activity_Code Place_Of_Causal_Injury   Race  \\\n",
       "0         Suicide  Other Activity                   Home  White   \n",
       "1         Suicide  Other Activity           Other Places  White   \n",
       "2         Suicide  Other Activity                   Home  White   \n",
       "3        Homicide  Other Activity                   Home  Black   \n",
       "4         Suicide  Other Activity           Other Places  White   \n",
       "\n",
       "        Hispanic_Origin                              Causes_of_Death ICD10  \\\n",
       "0  Non - Hispanic white                          suicide by firearms   X72   \n",
       "1  Non - Hispanic white                          suicide by firearms   X72   \n",
       "2  Non - Hispanic white                          suicide by firearms   X74   \n",
       "3  Non - Hispanic black  Assault (homicide) by discharge of firearms   X95   \n",
       "4  Non - Hispanic white                          suicide by firearms   X72   \n",
       "\n",
       "  Race-Simplified ICD10-Description  \n",
       "0           White               X72  \n",
       "1           White               X72  \n",
       "2           White               X74  \n",
       "3           Black               X95  \n",
       "4           White               X72  \n",
       "\n",
       "[5 rows x 21 columns]"
      ]
     },
     "execution_count": 5,
     "metadata": {},
     "output_type": "execute_result"
    }
   ],
   "source": [
    "df = pd.read_csv(file)\n",
    "df.head()"
   ]
  },
  {
   "cell_type": "code",
   "execution_count": 7,
   "metadata": {},
   "outputs": [],
   "source": [
    "unqrace = df['Race'].unique()"
   ]
  },
  {
   "cell_type": "code",
   "execution_count": 8,
   "metadata": {},
   "outputs": [
    {
     "data": {
      "text/plain": [
       "array(['White', 'Black', 'American Indian', 'Asian or Pacific Islander',\n",
       "       'Filipino', 'Samoan', 'Asian Indian', 'Japanese', 'Korean',\n",
       "       'Vietnamese', 'Chinese', 'Guamanian', 'Hawaiian'], dtype=object)"
      ]
     },
     "execution_count": 8,
     "metadata": {},
     "output_type": "execute_result"
    }
   ],
   "source": [
    "unqrace"
   ]
  },
  {
   "cell_type": "code",
   "execution_count": 9,
   "metadata": {},
   "outputs": [],
   "source": [
    "x_axis = np.arange(int(unqrace.size))\n",
    "x_axis\n",
    "race = []\n",
    "for i in unqrace:\n",
    "    race.append(i)"
   ]
  },
  {
   "cell_type": "code",
   "execution_count": 10,
   "metadata": {},
   "outputs": [
    {
     "data": {
      "text/plain": [
       "Black                        24957\n",
       "White                        17509\n",
       "American Indian                531\n",
       "Asian or Pacific Islander      277\n",
       "Asian Indian                   100\n",
       "Vietnamese                      96\n",
       "Chinese                         75\n",
       "Filipino                        55\n",
       "Korean                          38\n",
       "Samoan                          25\n",
       "Japanese                        15\n",
       "Hawaiian                        10\n",
       "Guamanian                       10\n",
       "Name: Race, dtype: int64"
      ]
     },
     "execution_count": 10,
     "metadata": {},
     "output_type": "execute_result"
    }
   ],
   "source": [
    "#grp_race = df.groupby(['Race'])\n",
    "grp_race_homicide = df[df['Manner_Of_Death']=='Homicide']\n",
    "#urban_grp = city_ride[city_ride['type']=='Urban'].groupby(['city'])\n",
    "grp_race_homicide['Race'].value_counts()"
   ]
  },
  {
   "cell_type": "code",
   "execution_count": 11,
   "metadata": {},
   "outputs": [],
   "source": [
    "Race_count = grp_race_homicide['Race'].value_counts()\n",
    "deaths_by_race = []\n",
    "#race_index = []\n",
    "for i in Race_count:\n",
    "    deaths_by_race.append(i)\n",
    "    #race_index = index('i')\n",
    "#deaths_by_race\n",
    "#race_index = Race_count.index\n",
    "#race_index"
   ]
  },
  {
   "cell_type": "code",
   "execution_count": 12,
   "metadata": {},
   "outputs": [
    {
     "data": {
      "text/plain": [
       "Black                        24957\n",
       "White                        17509\n",
       "American Indian                531\n",
       "Asian or Pacific Islander      277\n",
       "Asian Indian                   100\n",
       "Vietnamese                      96\n",
       "Chinese                         75\n",
       "Filipino                        55\n",
       "Korean                          38\n",
       "Samoan                          25\n",
       "Japanese                        15\n",
       "Hawaiian                        10\n",
       "Guamanian                       10\n",
       "Name: Race, dtype: int64"
      ]
     },
     "execution_count": 12,
     "metadata": {},
     "output_type": "execute_result"
    }
   ],
   "source": [
    "Race_count"
   ]
  },
  {
   "cell_type": "code",
   "execution_count": 13,
   "metadata": {},
   "outputs": [
    {
     "data": {
      "text/plain": [
       "[0, 1, 2, 3, 4, 5, 6, 7, 8, 9, 10, 11, 12]"
      ]
     },
     "execution_count": 13,
     "metadata": {},
     "output_type": "execute_result"
    },
    {
     "data": {
      "image/png": "[encoded data removed]",
      "text/plain": [
       "<Figure size 432x288 with 1 Axes>"
      ]
     },
     "metadata": {
      "needs_background": "light"
     },
     "output_type": "display_data"
    }
   ],
   "source": [
    "tick_loc = [value for value in x_axis]\n",
    "plt.xticks(tick_loc,Race_count.index,rotation='vertical')\n",
    "plt.bar(x_axis,deaths_by_race,color='b',alpha=0.5,align='center')\n",
    "tick_loc"
   ]
  },
  {
   "cell_type": "code",
   "execution_count": 14,
   "metadata": {},
   "outputs": [],
   "source": [
    "grp_race_homicide_2015 = grp_race_homicide[grp_race_homicide['Data_Year']==2015]\n",
    "grp_race_homicide_2016 = grp_race_homicide[grp_race_homicide['Data_Year']==2016]\n",
    "grp_race_homicide_2017 = grp_race_homicide[grp_race_homicide['Data_Year']==2017]"
   ]
  },
  {
   "cell_type": "code",
   "execution_count": 15,
   "metadata": {},
   "outputs": [
    {
     "data": {
      "text/html": [
       "<div>\n",
       "<style scoped>\n",
       "    .dataframe tbody tr th:only-of-type {\n",
       "        vertical-align: middle;\n",
       "    }\n",
       "\n",
       "    .dataframe tbody tr th {\n",
       "        vertical-align: top;\n",
       "    }\n",
       "\n",
       "    .dataframe thead th {\n",
       "        text-align: right;\n",
       "    }\n",
       "</style>\n",
       "<table border=\"1\" class=\"dataframe\">\n",
       "  <thead>\n",
       "    <tr style=\"text-align: right;\">\n",
       "      <th></th>\n",
       "      <th>Unnamed: 0</th>\n",
       "      <th>Unnamed: 0.1</th>\n",
       "      <th>Resident_Status</th>\n",
       "      <th>Month_Of_Death</th>\n",
       "      <th>Sex</th>\n",
       "      <th>Age</th>\n",
       "      <th>Age_Group</th>\n",
       "      <th>Place_Of_Death</th>\n",
       "      <th>Marital_Status</th>\n",
       "      <th>DOW_of_Death</th>\n",
       "      <th>...</th>\n",
       "      <th>Injured_At_Work</th>\n",
       "      <th>Manner_Of_Death</th>\n",
       "      <th>Activity_Code</th>\n",
       "      <th>Place_Of_Causal_Injury</th>\n",
       "      <th>Race</th>\n",
       "      <th>Hispanic_Origin</th>\n",
       "      <th>Causes_of_Death</th>\n",
       "      <th>ICD10</th>\n",
       "      <th>Race-Simplified</th>\n",
       "      <th>ICD10-Description</th>\n",
       "    </tr>\n",
       "  </thead>\n",
       "  <tbody>\n",
       "    <tr>\n",
       "      <td>3</td>\n",
       "      <td>3</td>\n",
       "      <td>3</td>\n",
       "      <td>Inter_state_NR</td>\n",
       "      <td>January</td>\n",
       "      <td>F</td>\n",
       "      <td>23</td>\n",
       "      <td>15 - 24</td>\n",
       "      <td>Outpatient Hospital</td>\n",
       "      <td>S</td>\n",
       "      <td>Tuesday</td>\n",
       "      <td>...</td>\n",
       "      <td>N</td>\n",
       "      <td>Homicide</td>\n",
       "      <td>Other Activity</td>\n",
       "      <td>Home</td>\n",
       "      <td>Black</td>\n",
       "      <td>Non - Hispanic black</td>\n",
       "      <td>Assault (homicide) by discharge of firearms</td>\n",
       "      <td>X95</td>\n",
       "      <td>Black</td>\n",
       "      <td>X95</td>\n",
       "    </tr>\n",
       "    <tr>\n",
       "      <td>5</td>\n",
       "      <td>5</td>\n",
       "      <td>5</td>\n",
       "      <td>Residents</td>\n",
       "      <td>January</td>\n",
       "      <td>M</td>\n",
       "      <td>18</td>\n",
       "      <td>15 - 24</td>\n",
       "      <td>Outpatient Hospital</td>\n",
       "      <td>S</td>\n",
       "      <td>Sunday</td>\n",
       "      <td>...</td>\n",
       "      <td>N</td>\n",
       "      <td>Homicide</td>\n",
       "      <td>Other Activity</td>\n",
       "      <td>Other Places</td>\n",
       "      <td>White</td>\n",
       "      <td>Non - Hispanic white</td>\n",
       "      <td>Assault (homicide) by discharge of firearms</td>\n",
       "      <td>X95</td>\n",
       "      <td>White</td>\n",
       "      <td>X95</td>\n",
       "    </tr>\n",
       "    <tr>\n",
       "      <td>7</td>\n",
       "      <td>7</td>\n",
       "      <td>7</td>\n",
       "      <td>Residents</td>\n",
       "      <td>January</td>\n",
       "      <td>M</td>\n",
       "      <td>20</td>\n",
       "      <td>15 - 24</td>\n",
       "      <td>Other</td>\n",
       "      <td>S</td>\n",
       "      <td>Thursday</td>\n",
       "      <td>...</td>\n",
       "      <td>N</td>\n",
       "      <td>Homicide</td>\n",
       "      <td>Other Activity</td>\n",
       "      <td>Other Places</td>\n",
       "      <td>White</td>\n",
       "      <td>Puerto Rican</td>\n",
       "      <td>Assault (homicide) by discharge of firearms</td>\n",
       "      <td>X95</td>\n",
       "      <td>Hispanic</td>\n",
       "      <td>X95</td>\n",
       "    </tr>\n",
       "    <tr>\n",
       "      <td>11</td>\n",
       "      <td>11</td>\n",
       "      <td>11</td>\n",
       "      <td>Inter_state_NR</td>\n",
       "      <td>February</td>\n",
       "      <td>M</td>\n",
       "      <td>33</td>\n",
       "      <td>25 - 34</td>\n",
       "      <td>Other</td>\n",
       "      <td>M</td>\n",
       "      <td>Sunday</td>\n",
       "      <td>...</td>\n",
       "      <td>N</td>\n",
       "      <td>Homicide</td>\n",
       "      <td>Other Activity</td>\n",
       "      <td>Other Places</td>\n",
       "      <td>White</td>\n",
       "      <td>Mexican</td>\n",
       "      <td>Assault (homicide) by discharge of firearms</td>\n",
       "      <td>X95</td>\n",
       "      <td>Hispanic</td>\n",
       "      <td>X95</td>\n",
       "    </tr>\n",
       "    <tr>\n",
       "      <td>18</td>\n",
       "      <td>18</td>\n",
       "      <td>18</td>\n",
       "      <td>Inter_state_NR</td>\n",
       "      <td>February</td>\n",
       "      <td>M</td>\n",
       "      <td>34</td>\n",
       "      <td>25 - 34</td>\n",
       "      <td>Other</td>\n",
       "      <td>M</td>\n",
       "      <td>Thursday</td>\n",
       "      <td>...</td>\n",
       "      <td>N</td>\n",
       "      <td>Homicide</td>\n",
       "      <td>Other Activity</td>\n",
       "      <td>Home</td>\n",
       "      <td>White</td>\n",
       "      <td>Non - Hispanic white</td>\n",
       "      <td>Assault (homicide) by discharge of firearms</td>\n",
       "      <td>X95</td>\n",
       "      <td>White</td>\n",
       "      <td>X95</td>\n",
       "    </tr>\n",
       "  </tbody>\n",
       "</table>\n",
       "<p>5 rows × 21 columns</p>\n",
       "</div>"
      ],
      "text/plain": [
       "    Unnamed: 0  Unnamed: 0.1 Resident_Status Month_Of_Death Sex  Age  \\\n",
       "3            3             3  Inter_state_NR        January   F   23   \n",
       "5            5             5       Residents        January   M   18   \n",
       "7            7             7       Residents        January   M   20   \n",
       "11          11            11  Inter_state_NR       February   M   33   \n",
       "18          18            18  Inter_state_NR       February   M   34   \n",
       "\n",
       "   Age_Group       Place_Of_Death Marital_Status DOW_of_Death  ...  \\\n",
       "3    15 - 24  Outpatient Hospital              S      Tuesday  ...   \n",
       "5    15 - 24  Outpatient Hospital              S       Sunday  ...   \n",
       "7    15 - 24                Other              S     Thursday  ...   \n",
       "11   25 - 34                Other              M       Sunday  ...   \n",
       "18   25 - 34                Other              M     Thursday  ...   \n",
       "\n",
       "    Injured_At_Work Manner_Of_Death   Activity_Code Place_Of_Causal_Injury  \\\n",
       "3                 N        Homicide  Other Activity                   Home   \n",
       "5                 N        Homicide  Other Activity           Other Places   \n",
       "7                 N        Homicide  Other Activity           Other Places   \n",
       "11                N        Homicide  Other Activity           Other Places   \n",
       "18                N        Homicide  Other Activity                   Home   \n",
       "\n",
       "     Race       Hispanic_Origin                              Causes_of_Death  \\\n",
       "3   Black  Non - Hispanic black  Assault (homicide) by discharge of firearms   \n",
       "5   White  Non - Hispanic white  Assault (homicide) by discharge of firearms   \n",
       "7   White          Puerto Rican  Assault (homicide) by discharge of firearms   \n",
       "11  White               Mexican  Assault (homicide) by discharge of firearms   \n",
       "18  White  Non - Hispanic white  Assault (homicide) by discharge of firearms   \n",
       "\n",
       "   ICD10 Race-Simplified ICD10-Description  \n",
       "3    X95           Black               X95  \n",
       "5    X95           White               X95  \n",
       "7    X95        Hispanic               X95  \n",
       "11   X95        Hispanic               X95  \n",
       "18   X95           White               X95  \n",
       "\n",
       "[5 rows x 21 columns]"
      ]
     },
     "execution_count": 15,
     "metadata": {},
     "output_type": "execute_result"
    }
   ],
   "source": [
    "grp_race_homicide_2015.head()"
   ]
  },
  {
   "cell_type": "code",
   "execution_count": 16,
   "metadata": {},
   "outputs": [],
   "source": [
    "Race_count_2015 = grp_race_homicide_2015['Race'].value_counts()\n",
    "deaths_by_race_2015 = []\n",
    "#race_index = []\n",
    "for i in Race_count_2015:\n",
    "    deaths_by_race_2015.append(i)\n",
    "Race_count_2016 = grp_race_homicide_2016['Race'].value_counts()\n",
    "deaths_by_race_2016 = []\n",
    "#race_index = []\n",
    "for i in Race_count_2016:\n",
    "    deaths_by_race_2016.append(i)\n",
    "Race_count_2017 = grp_race_homicide_2017['Race'].value_counts()\n",
    "deaths_by_race_2017 = []\n",
    "#race_index = []\n",
    "for i in Race_count_2017:\n",
    "    deaths_by_race_2017.append(i)"
   ]
  },
  {
   "cell_type": "code",
   "execution_count": 117,
   "metadata": {},
   "outputs": [
    {
     "data": {
      "image/png": "[encoded data removed]",
      "text/plain": [
       "<Figure size 1440x720 with 1 Axes>"
      ]
     },
     "metadata": {
      "needs_background": "light"
     },
     "output_type": "display_data"
    }
   ],
   "source": [
    "#np.arange(int(unqrace.size))\n",
    "\n",
    "x = np.arange(int(unqrace.size))  # the label locations\n",
    "pos=.20\n",
    "width = .33\n",
    "\n",
    "fig, ax = plt.subplots(figsize=(20,10))\n",
    "rects1 = ax.bar(x - pos, deaths_by_race_2015, .20, label='2015',color='r')\n",
    "rects2 = ax.bar(x, deaths_by_race_2016, .20, label='2016', color='b')\n",
    "rects3 = ax.bar(x+pos, deaths_by_race_2017,0.20, label='2017', color='g')\n",
    "ax.legend()\n",
    "plt.xticks(tick_loc,Race_count.index,fontsize=15,rotation='vertical')\n",
    "plt.yticks(fontsize=15)\n",
    "fig.tight_layout()\n",
    "plt.ylabel('Homicide deaths by gun',fontsize=20)\n",
    "plt.title('Does Race play a factor in homicide by gun?',fontsize=20)\n",
    "#plt.figure(figsize=(80,10))\n",
    "plt.legend(loc=1, prop={'size': 20})\n",
    "plt.savefig(\"Is_Race_a_factor_in_homicide.png\",bbox_inches = 'tight')\n",
    "plt.show()"
   ]
  },
  {
   "cell_type": "code",
   "execution_count": 124,
   "metadata": {},
   "outputs": [],
   "source": [
    "death_by_day_temp = df[df['DOW_of_Death'].isin(['Monday','Tuesday','Wednesday','Thursday','Friday','Saturday','Sunday'])]\n",
    "#death_by_day = death_by_day_temp['DOW_of_Death'].value_counts(sort=False)\n",
    "death_by_day = death_by_day_temp['DOW_of_Death'].value_counts()\n",
    "days = []\n",
    "death_count = []\n",
    "days = death_by_day.index \n",
    "#death_count = death_by_day\n",
    "for i in death_by_day:\n",
    "    death_count.append(i)"
   ]
  },
  {
   "cell_type": "code",
   "execution_count": 125,
   "metadata": {},
   "outputs": [
    {
     "data": {
      "image/png": "[encoded data removed]",
      "text/plain": [
       "<Figure size 432x288 with 1 Axes>"
      ]
     },
     "metadata": {
      "needs_background": "light"
     },
     "output_type": "display_data"
    }
   ],
   "source": [
    "plt.xticks(rotation='vertical')\n",
    "plt.bar(days,death_by_day,color='r',alpha=0.5,align='center')\n",
    "plt.tight_layout()\n",
    "plt.ylabel('Number of Deaths',fontsize=20)\n",
    "plt.xlabel('Day of the Week',fontsize=20)\n",
    "plt.title('Do gun deaths get worse on the weekends?',fontsize=20)\n",
    "plt.savefig(\"Death_by_days.png\",bbox_inches = 'tight')\n",
    "\n",
    "#tick_loc"
   ]
  },
  {
   "cell_type": "code",
   "execution_count": 102,
   "metadata": {},
   "outputs": [
    {
     "data": {
      "text/plain": [
       "suicide by firearms                            68908\n",
       "Assault (homicide) by discharge of firearms    42064\n",
       "legal intervention                              1629\n",
       "Accidental discharge of firearms                1472\n",
       "Discharge of firearms                            923\n",
       "Legal intervention                                69\n",
       "Name: Causes_of_Death, dtype: int64"
      ]
     },
     "execution_count": 102,
     "metadata": {},
     "output_type": "execute_result"
    }
   ],
   "source": [
    "df['Causes_of_Death'].value_counts()"
   ]
  },
  {
   "cell_type": "code",
   "execution_count": null,
   "metadata": {},
   "outputs": [],
   "source": []
  }
 ],
 "metadata": {
  "kernelspec": {
   "display_name": "Python 3",
   "language": "python",
   "name": "python3"
  },
  "language_info": {
   "codemirror_mode": {
    "name": "ipython",
    "version": 3
   },
   "file_extension": ".py",
   "mimetype": "text/x-python",
   "name": "python",
   "nbconvert_exporter": "python",
   "pygments_lexer": "ipython3",
   "version": "3.6.9"
  }
 },
 "nbformat": 4,
 "nbformat_minor": 2
}
